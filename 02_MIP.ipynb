{
 "cells": [
  {
   "cell_type": "markdown",
   "metadata": {},
   "source": [
    "### Load data\n",
    "\n",
    "Choose that dataset to load. We have prepared 2 different datasets, downloaded and converted from the competition:\n",
    "* wbg-fal10: dataset_01 ([ITC2019 description](https://www.itc2019.org/instances/status/5b59b12884ed6a262b1ce9d3))\n",
    "* pu-cs-fal07: dataset_04 ([ITC2019 description](https://www.itc2019.org/instances/status/5b59ebf984ed6a262b1ce9dc))\n",
    "\n",
    "Choose between datasets by adjusting the command `import dataset_0x as dataset`"
   ]
  },
  {
   "cell_type": "code",
   "execution_count": 1,
   "metadata": {},
   "outputs": [],
   "source": [
    "from docplex.mp.model import Model\n",
    "import time\n",
    "import dataset_01 as dataset\n",
    "\n",
    "solution_filename = 'Solutions/sol_01_mp.py'\n",
    "progress_filename = 'Progress/log_01_mp.txt'\n",
    "\n",
    "rooms = dataset.rooms\n",
    "courses = dataset.courses\n",
    "students = dataset.students\n",
    "constraints = dataset.constraints"
   ]
  },
  {
   "cell_type": "markdown",
   "metadata": {},
   "source": [
    "List of supporting tables:\n",
    "* `classes`: 150 classes with details\n",
    "* `classes_id`: ids from 1 to 150\n",
    "* `rooms_id`: ids from 1 to 7\n",
    "* `students_id`: ids from 1 to 19\n",
    "* `student_subparts`: pairs of 1 student & 1 subpart that he/she must attend (the subpart is a list of classes_id)\n",
    "* `student_classes`: pairs of 1 student & the list of all classes that he/she might attend (flattened from above subpart) -> 19 pairs"
   ]
  },
  {
   "cell_type": "code",
   "execution_count": 2,
   "metadata": {},
   "outputs": [],
   "source": [
    "rooms_id = [r['id'] for r in rooms]\n",
    "students_id = [s['id'] for s in students]\n",
    "\n",
    "# class-time pairs\n",
    "classes = []\n",
    "for course in courses:\n",
    "    for subpart in course['subpart']:\n",
    "        for c in subpart['class']:\n",
    "            classes.append(c)\n",
    "classes_id = [c['id'] for c in classes]\n",
    "\n",
    "# student-subpart pairs\n",
    "student_subparts = []\n",
    "for s in students_id:\n",
    "    for i in students[s-1]['course']:\n",
    "        for subpart in courses[i-1]['subpart']:\n",
    "            student_subparts.append([s,[c['id'] for c in subpart['class']]]) \n",
    "\n",
    "# student-classes pairs\n",
    "student_classes = []\n",
    "for s in students_id:\n",
    "    student_classes.append([s, []])\n",
    "    class_list = student_classes[-1][1]\n",
    "    for i in students[s-1]['course']:\n",
    "        for subpart in courses[i-1]['subpart']:\n",
    "            for c in subpart['class']:\n",
    "                class_list.append(c['id'])\n",
    "\n",
    "# pairs of classes with SameAttendee constraint\n",
    "SA_pairs=[]\n",
    "for ct in constraints:\n",
    "    if ct['type']=='SameAttendees':\n",
    "        for i1 in range(len(ct['class'])):\n",
    "            for i2 in range(i1+1, len(ct['class'])):\n",
    "                c1, c2 = ct['class'][i1], ct['class'][i2]\n",
    "                SA_pairs.append((c1,c2))"
   ]
  },
  {
   "cell_type": "markdown",
   "metadata": {},
   "source": [
    "### support functions:"
   ]
  },
  {
   "cell_type": "code",
   "execution_count": 3,
   "metadata": {},
   "outputs": [],
   "source": [
    "def clash(time1, time2):\n",
    "    clash_days = bool(sum([int(a) & int(b) for a,b in zip(time1['days'], time2['days'])]))\n",
    "    clash_weeks = bool(sum([int(a) & int(b) for a,b in zip(time1['weeks'], time2['weeks'])]))\n",
    "    clash_time1 = time1['start'] < time2['start'] + time2['length']\n",
    "    clash_time2 = time1['start'] + time1['length'] > time2['start']\n",
    "    return clash_days and clash_weeks and clash_time1 and clash_time2"
   ]
  },
  {
   "cell_type": "markdown",
   "metadata": {},
   "source": [
    "# Modeling"
   ]
  },
  {
   "cell_type": "markdown",
   "metadata": {},
   "source": [
    "### Decision Variables"
   ]
  },
  {
   "cell_type": "code",
   "execution_count": 4,
   "metadata": {},
   "outputs": [],
   "source": [
    "m = Model('model1')\n",
    "\n",
    "# x = 1 if the class c takes place at time t, 0 otherwise\n",
    "x = m.binary_var_dict([(c,t) \n",
    "                       for c in classes_id \n",
    "                       for t in range(len(classes[c-1]['time']))], name= 'x')\n",
    "\n",
    "# y = 1 if the class c takes place at room r, 0 otherwise\n",
    "y = m.binary_var_dict([(c,r) \n",
    "                       for c in classes_id \n",
    "                       for r in range(len(classes[c-1]['room']))], name= 'y')\n",
    "\n",
    "# z = 1 if the student s takes class c, 0 otherwise\n",
    "z = m.binary_var_dict([(s,c) \n",
    "                       for s in students_id \n",
    "                       for c in student_classes[s-1][1]], name= 'z')"
   ]
  },
  {
   "cell_type": "markdown",
   "metadata": {},
   "source": [
    "### Objective functions\n",
    "(skip if only search for feasible solution)"
   ]
  },
  {
   "cell_type": "markdown",
   "metadata": {},
   "source": [
    "### Constraints"
   ]
  },
  {
   "cell_type": "code",
   "execution_count": 5,
   "metadata": {},
   "outputs": [],
   "source": [
    "# Every class must be assigned a time\n",
    "m.add_constraints(m.sum(x[c,t] for t in range(len(classes[c-1]['time']))) == 1 \n",
    "                  for c in classes_id)\n",
    "\n",
    "# Every class must be assigned a room, where applicable\n",
    "m.add_constraints(m.sum(y[c,r] for r in range(len(classes[c-1]['room']))) == 1 \n",
    "                  for c in classes_id)\n",
    "\n",
    "# Every student must attend exactly one class for each subpart that he/she must attend\n",
    "m.add_constraints(m.sum(z[s,c] for c in subpart) == 1 \n",
    "                  for s, subpart in student_subparts)\n",
    "\n",
    "# For two classes with a parent-child relationship, if a class is assigned to a student\n",
    "# then the parent class must also be assigned\n",
    "m.add_constraints(z[s,c] <= z[s,classes[c-1]['parent']] \n",
    "                  for s in students_id \n",
    "                  for c in student_classes[s-1][1] if classes[c-1].get('parent', 0));\n",
    "\n",
    "# The capacity of each class in terms of the number of students must be satisfed\n",
    "m.add_constraints(m.sum(z[s,c] for s in students_id if c in student_classes[s-1][1]) <= classes[c-1]['limit'] \n",
    "                  for c in classes_id);\n",
    "\n",
    "# A room cannot be used when it is unavailable\n",
    "# there are no clashes in this test set\n",
    "for c in classes_id:\n",
    "    for t in range(len(classes[c-1]['time'])):\n",
    "        for r in range(len(classes[c-1]['room'])):\n",
    "            ctime = classes[c-1]['time'][t]\n",
    "            croom = rooms[classes[c-1]['room'][r]['id'] - 1]\n",
    "            penalty = classes[c-1]['room'][r]['penalty']\n",
    "            for room_uat in croom['unavailable']:\n",
    "                if clash(ctime, room_uat):\n",
    "                    m.add_constraint(x[c,t] + y[c,r] <= 1)\n",
    "\n",
    "# Any hard distribution constraints must be satisfied\n",
    "# in this instance refers to the same attendee requirement \n",
    "for c1, c2 in SA_pairs:\n",
    "    for t1 in range(len(classes[c1-1]['time'])):\n",
    "        for t2 in range(len(classes[c2-1]['time'])):\n",
    "            time1=classes[c1-1]['time'][t1]\n",
    "            time2=classes[c2-1]['time'][t2]\n",
    "            if clash(time1, time2):\n",
    "                m.add_constraint(x[c1,t1] + x[c2,t2] <= 1) "
   ]
  },
  {
   "cell_type": "markdown",
   "metadata": {},
   "source": [
    "* Two class cannot be at the same time and in the same room (H8) (~3 minutes)"
   ]
  },
  {
   "cell_type": "code",
   "execution_count": 6,
   "metadata": {},
   "outputs": [],
   "source": [
    "# Two class cannot be at the same time and in the same room\n",
    "# Long time to run\n",
    "for i1 in range(len(classes_id)):\n",
    "    for i2 in range(i1+1, len(classes_id)):\n",
    "        c1, c2 = classes_id[i1], classes_id[i2]\n",
    "            \n",
    "        for t1 in range(len(classes[c1-1]['time'])):\n",
    "            for t2 in range(len(classes[c2-1]['time'])):\n",
    "                time1=classes[c1-1]['time'][t1]\n",
    "                time2=classes[c2-1]['time'][t2]\n",
    "                if clash(time1, time2):\n",
    "\n",
    "                    for r1 in range(len(classes[c1-1]['room'])):\n",
    "                        for r2 in range(len(classes[c2-1]['room'])):\n",
    "                            r1_id=classes[c1-1]['room'][r1]['id']\n",
    "                            r2_id=classes[c2-1]['room'][r2]['id']\n",
    "                            if r1_id==r2_id:\n",
    "                                m.add_constraint(x[c1,t1] + x[c2,t2] + y[c1,r1] + y[c2,r2] <= 3)   "
   ]
  },
  {
   "cell_type": "code",
   "execution_count": 7,
   "metadata": {},
   "outputs": [
    {
     "name": "stdout",
     "output_type": "stream",
     "text": [
      " - number of variables: 6272\n",
      "   - binary=6272, integer=0, continuous=0\n",
      " - number of constraints: 601751\n",
      "   - linear=601751\n"
     ]
    }
   ],
   "source": [
    "print(m.get_statistics())"
   ]
  },
  {
   "cell_type": "markdown",
   "metadata": {},
   "source": [
    "### support functions:"
   ]
  },
  {
   "cell_type": "code",
   "execution_count": 8,
   "metadata": {},
   "outputs": [],
   "source": [
    "def extract_time(class_id, x_sol):\n",
    "    # output: time dict\n",
    "    for t in range(len(x_sol[class_id-1]['time'])):\n",
    "        if x_sol[class_id-1]['time'][t]==1:\n",
    "            return classes[class_id-1]['time'][t]\n",
    "\n",
    "def extract_room(class_id, y_sol):\n",
    "    # output: room dict{'id', 'penalty'}\n",
    "    for r in range(len(y_sol[class_id-1]['room'])):\n",
    "        if y_sol[class_id-1]['room'][r]==1:\n",
    "            return classes[class_id-1]['room'][r]\n",
    "\n",
    "def extract_xyz(sol):\n",
    "    '''\n",
    "    Input: Solution object (docplex.mp.solution.SolveSolution)\n",
    "    Output: x, y, z in python list format\n",
    "    '''\n",
    "    \n",
    "    # initialize x,y,z\n",
    "    x_sol = []\n",
    "    for c in classes_id:\n",
    "        x_sol.append({'id':c})\n",
    "        x_sol[-1]['time'] = [0]*len(classes[c-1]['time'])    \n",
    "\n",
    "    y_sol = []\n",
    "    for c in classes_id:\n",
    "        y_sol.append({'id':c})\n",
    "        y_sol[-1]['room'] = [0]*len(classes[c-1]['room'])      \n",
    "\n",
    "    z_sol = [[0]*len(classes_id) for _ in range(len(students_id))]\n",
    "    \n",
    "    # extract data\n",
    "    content = str(sol).split('\\n')\n",
    "    for line in content:\n",
    "        if len(line)==0 or line[0] not in ('x', 'y', 'z'):\n",
    "            continue\n",
    "        var, idx1, idx2 = line[:-2].split('_')\n",
    "        if var=='x':\n",
    "            x_sol[int(idx1)-1]['time'][int(idx2)] = 1\n",
    "        elif var=='y':\n",
    "            y_sol[int(idx1)-1]['room'][int(idx2)] = 1\n",
    "        elif var=='z':\n",
    "            z_sol[int(idx1)-1][int(idx2)-1] = 1\n",
    "    \n",
    "    return x_sol, y_sol, z_sol"
   ]
  },
  {
   "cell_type": "code",
   "execution_count": 9,
   "metadata": {},
   "outputs": [],
   "source": [
    "def check_solution(sol):\n",
    "    '''\n",
    "    Input: Solution object (docplex.mp.solution.SolveSolution)\n",
    "    Function: Announce constraints violated by the solution\n",
    "    '''\n",
    "    print('---no output if all constraints passed---')\n",
    "    x_sol, y_sol, z_sol = extract_xyz(sol)\n",
    "    \n",
    "    # (1) check x\n",
    "    for i in x_sol:\n",
    "        if sum(i['time']) != 1:\n",
    "            print('Constraint (1) violated!')\n",
    "            break\n",
    "\n",
    "    # (2) check y\n",
    "    for i in y_sol:\n",
    "        if sum(i['room']) != 1:\n",
    "            print('Constraint (2) violated!')\n",
    "            break\n",
    "\n",
    "    # (3) check z\n",
    "    for s, class_list in student_subparts:\n",
    "        if sum([z_sol[s-1][c-1] for c in class_list]) != 1:\n",
    "            print('Constraint (3) violated!')\n",
    "            break\n",
    "\n",
    "    # (4) check parent-child relationship\n",
    "    for c in classes:\n",
    "        c_parent = c.get('parent', 0)\n",
    "        if c_parent:\n",
    "            for s in students_id:\n",
    "                # print out details if there is a constraint violation:\n",
    "                if z_sol[s-1][c['id']-1] > z_sol[s-1][c_parent-1]:\n",
    "                    print('Constraint (4) violated!')\n",
    "                    break\n",
    "\n",
    "    # (5) check class limit\n",
    "    for c in classes:\n",
    "        # print out details if there is a constraint violation:\n",
    "        if sum([z_sol[i][c['id']-1] for i in range(len(z_sol))]) > c['limit']:\n",
    "            print('Constraint (5) violated!')\n",
    "            break\n",
    "            \n",
    "    # (6) check room unavailable time\n",
    "    for c in classes_id:\n",
    "        ctime = extract_time(c, x_sol)\n",
    "        room_id = extract_room(c, y_sol)['id']\n",
    "        for room_uat in rooms[room_id-1]['unavailable']:\n",
    "            if clash(ctime, room_uat):\n",
    "                print('Constraint (6) violated!')\n",
    "                break\n",
    "\n",
    "    # (7) check SameAttendees\n",
    "    for c1, c2 in SA_pairs:\n",
    "        time1 = extract_time(c1, x_sol)\n",
    "        time2 = extract_time(c2, x_sol)\n",
    "        if clash(time1, time2):\n",
    "            print('Constraint (7) violated!')\n",
    "            break\n",
    "\n",
    "    # (8) check if 2 classes clash room-time constraint\n",
    "    for i1 in range(len(classes_id)):\n",
    "        for i2 in range(i1+1, len(classes_id)):\n",
    "            c1, c2 = classes_id[i1], classes_id[i2]\n",
    "            time1 = extract_time(c1, x_sol)\n",
    "            time2 = extract_time(c2, x_sol)\n",
    "            room1 = extract_room(c1, y_sol)\n",
    "            room2 = extract_room(c2, y_sol)\n",
    "            # print out details if there is a constraint violation:\n",
    "            if clash(time1, time2) and room1==room2:\n",
    "                print('Constraint (8) violated!')\n",
    "                break"
   ]
  },
  {
   "cell_type": "code",
   "execution_count": 10,
   "metadata": {},
   "outputs": [],
   "source": [
    "def objective(sol):\n",
    "    x_sol, y_sol, z_sol = extract_xyz(sol)\n",
    "    \n",
    "    # calculate objective value\n",
    "    time_penalty = 0\n",
    "    for c in classes_id:\n",
    "        for t in range(len(classes[c-1]['time'])):\n",
    "            if x_sol[c-1]['time'][t] == 1:\n",
    "                time_penalty += classes[c-1]['time'][t]['penalty']\n",
    "    \n",
    "    room_penalty = 0\n",
    "    for c in classes_id:\n",
    "        for r in range(len(classes[c-1]['room'])):\n",
    "            if y_sol[c-1]['room'][r] == 1:\n",
    "                room_penalty += classes[c-1]['room'][r]['penalty']\n",
    "\n",
    "    return time_penalty, room_penalty"
   ]
  },
  {
   "cell_type": "markdown",
   "metadata": {},
   "source": [
    "### Solver\n",
    "* without objective: runtime = 5.29 s"
   ]
  },
  {
   "cell_type": "code",
   "execution_count": 11,
   "metadata": {
    "scrolled": true
   },
   "outputs": [
    {
     "name": "stdout",
     "output_type": "stream",
     "text": [
      "Iteration:  0 , Execution time:  17.570014715194702\n",
      "Time penalty:  144\n",
      "Room penalty:  38\n",
      "Total penalty:  182\n",
      "Iteration:  1 , Execution time:  17.280726671218872\n",
      "Time penalty:  128\n",
      "Room penalty:  36\n",
      "Total penalty:  164\n",
      "Iteration:  2 , Execution time:  16.171014070510864\n",
      "Time penalty:  120\n",
      "Room penalty:  33\n",
      "Total penalty:  153\n",
      "Iteration:  3 , Execution time:  16.765631198883057\n",
      "Time penalty:  112\n",
      "Room penalty:  33\n",
      "Total penalty:  145\n",
      "Iteration:  4 , Execution time:  16.919880867004395\n",
      "Time penalty:  96\n",
      "Room penalty:  37\n",
      "Total penalty:  133\n",
      "Iteration:  5 , Execution time:  20.267347812652588\n",
      "Time penalty:  96\n",
      "Room penalty:  28\n",
      "Total penalty:  124\n",
      "Iteration:  6 , Execution time:  19.42621684074402\n",
      "Time penalty:  88\n",
      "Room penalty:  28\n",
      "Total penalty:  116\n",
      "Iteration:  7 , Execution time:  17.807680368423462\n",
      "Time penalty:  16\n",
      "Room penalty:  30\n",
      "Total penalty:  46\n",
      "Iteration:  8 , Execution time:  18.407712697982788\n",
      "Time penalty:  0\n",
      "Room penalty:  30\n",
      "Total penalty:  30\n",
      "Iteration:  9 , Execution time:  16.324589014053345\n",
      "Time penalty:  0\n",
      "Room penalty:  28\n",
      "Total penalty:  28\n",
      "Iteration:  10 , Execution time:  16.073149919509888\n",
      "Time penalty:  0\n",
      "Room penalty:  27\n",
      "Total penalty:  27\n",
      "Iteration:  11 , Execution time:  17.983423233032227\n",
      "Time penalty:  0\n",
      "Room penalty:  25\n",
      "Total penalty:  25\n",
      "Iteration:  12 , Execution time:  17.726499795913696\n",
      "Time penalty:  0\n",
      "Room penalty:  24\n",
      "Total penalty:  24\n",
      "Iteration:  13 , Execution time:  15.550103425979614\n",
      "Time penalty:  0\n",
      "Room penalty:  22\n",
      "Total penalty:  22\n",
      "Iteration:  14 , Execution time:  15.487870454788208\n",
      "Time penalty:  0\n",
      "Room penalty:  21\n",
      "Total penalty:  21\n",
      "Iteration:  15 , Execution time:  16.38615083694458\n",
      "Time penalty:  0\n",
      "Room penalty:  19\n",
      "Total penalty:  19\n",
      "Iteration:  16 , Execution time:  16.147879362106323\n",
      "Time penalty:  0\n",
      "Room penalty:  18\n",
      "Total penalty:  18\n",
      "Iteration:  17 , Execution time:  14.8906831741333\n",
      "Time penalty:  0\n",
      "Room penalty:  17\n",
      "Total penalty:  17\n",
      "Iteration:  18 , Execution time:  31.22014045715332\n",
      "Time penalty:  0\n",
      "Room penalty:  17\n",
      "Total penalty:  17\n",
      "Stopping criteria met\n"
     ]
    }
   ],
   "source": [
    "it = 0\n",
    "executionTime = 0\n",
    "obj = []\n",
    "exec_time = []\n",
    "sol_prev = None\n",
    "\n",
    "while True:\n",
    "    startTime = time.time()\n",
    "    \n",
    "    m.set_time_limit(30)\n",
    "    sol = m.solve(log_output=False)\n",
    "\n",
    "    executionTime = (time.time() - startTime)\n",
    "    print('Iteration: ', it, ', Execution time: ', str(executionTime))\n",
    "    \n",
    "    # save the progress\n",
    "    if sol:\n",
    "        sol_prev = sol\n",
    "    sol_time, sol_room = objective(sol_prev)\n",
    "    sol_penalty = sol_time + sol_room\n",
    "    print('Time penalty: ', sol_time)\n",
    "    print('Room penalty: ', sol_room)\n",
    "    print('Total penalty: ', sol_penalty)\n",
    "    obj.append([sol_time, sol_room, sol_penalty])\n",
    "    exec_time.append(executionTime)\n",
    "    \n",
    "    filename = progress_filename\n",
    "    file = open(filename, 'w')\n",
    "    file.write(str(obj) + '\\n' + str(exec_time))\n",
    "    file.close()\n",
    "    \n",
    "    # stopping criteria\n",
    "    #if executionTime > 30 or it > 50 or sol_penalty < 0.15 * obj[0][2]:\n",
    "    if executionTime > 30 or it > 50:\n",
    "        print('Stopping criteria met')\n",
    "        break\n",
    "    \n",
    "    # update model constraints\n",
    "    time_penalty = m.sum(x[c,t]*classes[c-1]['time'][t]['penalty'] \n",
    "                         for c in classes_id for t in range(len(classes[c-1]['time'])))\n",
    "    room_penalty = m.sum(y[c,r]*classes[c-1]['room'][r]['penalty'] \n",
    "                         for c in classes_id for r in range(len(classes[c-1]['room'])))\n",
    "    m.add_constraint(time_penalty + room_penalty <= sol_penalty-1)\n",
    "    \n",
    "    it += 1"
   ]
  },
  {
   "cell_type": "markdown",
   "metadata": {},
   "source": [
    "* save solution to text"
   ]
  },
  {
   "cell_type": "code",
   "execution_count": 15,
   "metadata": {},
   "outputs": [],
   "source": [
    "filename = solution_filename\n",
    "\n",
    "file = open(filename, 'w')\n",
    "file.write(str(sol_prev))\n",
    "file.close()"
   ]
  },
  {
   "cell_type": "code",
   "execution_count": 16,
   "metadata": {},
   "outputs": [
    {
     "name": "stdout",
     "output_type": "stream",
     "text": [
      "---no output if all constraints passed---\n"
     ]
    }
   ],
   "source": [
    "check_solution(sol_prev)"
   ]
  },
  {
   "cell_type": "markdown",
   "metadata": {},
   "source": [
    "* plot objective through time:"
   ]
  },
  {
   "cell_type": "code",
   "execution_count": 17,
   "metadata": {},
   "outputs": [
    {
     "name": "stdout",
     "output_type": "stream",
     "text": [
      "Total runtime: 338.4067 seconds\n",
      "Objective value: 17\n"
     ]
    },
    {
     "data": {
      "image/png": "[encoded data removed]",
      "text/plain": [
       "<Figure size 1440x720 with 2 Axes>"
      ]
     },
     "metadata": {
      "needs_background": "light"
     },
     "output_type": "display_data"
    }
   ],
   "source": [
    "import matplotlib.pyplot as plt\n",
    "import json\n",
    "\n",
    "fileObj=open(progress_filename,\"r\")\n",
    "content=fileObj.readlines()\n",
    "obj = json.loads(content[0][:-1])\n",
    "exec_time = json.loads(content[1])\n",
    "\n",
    "print('Total runtime: {0:.4f} seconds'.format(sum(exec_time)))\n",
    "print('Objective value: {0}'.format(obj[-1][-1]))\n",
    "\n",
    "plt.figure(figsize=(20,10))\n",
    "ax = plt.gca()\n",
    "ax2 = ax.twinx()\n",
    "\n",
    "ax.plot([i for i in range(len(obj))], [val[2] for val in obj], marker='o', label='Objective')\n",
    "ax.plot([i for i in range(len(obj))], [val[0] for val in obj], marker='o', label='Time_penalty')\n",
    "ax.plot([i for i in range(len(obj))], [val[1] for val in obj], marker='o', label='Room_penalty')\n",
    "ax.set_ylabel('Objective', fontsize=14)\n",
    "ax.set_xlabel('Iterations', fontsize=14)\n",
    "\n",
    "ax2.plot([i for i in range(len(obj))], [val for val in exec_time], linestyle='dashed', color='orange', label='exec_time')\n",
    "ax2.set_ylabel('Execution time')\n",
    "ax2.set_ylim(0, max(exec_time))\n",
    "\n",
    "ax.legend()\n",
    "ax2.legend(loc='lower right')\n",
    "plt.show();"
   ]
  }
 ],
 "metadata": {
  "kernelspec": {
   "display_name": "Python 3",
   "language": "python",
   "name": "python3"
  },
  "language_info": {
   "codemirror_mode": {
    "name": "ipython",
    "version": 3
   },
   "file_extension": ".py",
   "mimetype": "text/x-python",
   "name": "python",
   "nbconvert_exporter": "python",
   "pygments_lexer": "ipython3",
   "version": "3.7.1"
  }
 },
 "nbformat": 4,
 "nbformat_minor": 5
}
